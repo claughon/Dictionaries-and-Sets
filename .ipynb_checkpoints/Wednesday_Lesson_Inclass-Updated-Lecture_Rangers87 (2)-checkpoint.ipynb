{
 "cells": [
  {
   "cell_type": "markdown",
   "metadata": {},
   "source": [
    "# Dictionaries, Sets, & Importing Modules"
   ]
  },
  {
   "cell_type": "markdown",
   "metadata": {},
   "source": [
    "## Tasks Today:\n",
    "\n",
    "1) Dictionary <br>\n",
    " &nbsp;&nbsp;&nbsp;&nbsp; a) Declaring (key, value) <br>\n",
    " &nbsp;&nbsp;&nbsp;&nbsp; b) Accessing Values <br>\n",
    " &nbsp;&nbsp;&nbsp;&nbsp; ------ Exercise #1 - Print the eye color of each person in a double nested dict <br>\n",
    " &nbsp;&nbsp;&nbsp;&nbsp; c) Adding New Pairs <br>\n",
    " &nbsp;&nbsp;&nbsp;&nbsp; d) Modifying Values <br>\n",
    " &nbsp;&nbsp;&nbsp;&nbsp; e) Removing Key, Value Pairs <br>\n",
    " &nbsp;&nbsp;&nbsp;&nbsp; f) Looping a Dictionary <br>\n",
    " &nbsp;&nbsp;&nbsp;&nbsp; g) Looping Only Keys <br>\n",
    " &nbsp;&nbsp;&nbsp;&nbsp; h) Looping Only Values <br>\n",
    " &nbsp;&nbsp;&nbsp;&nbsp; ------ Exercise #2 - Create a Function that Prints All Key Value Pairs within a print .format()  <br>\n",
    " &nbsp;&nbsp;&nbsp;&nbsp; i) sorted() <br>\n",
    " &nbsp;&nbsp;&nbsp;&nbsp; j) Lists with Dictionaries <br>\n",
    " &nbsp;&nbsp;&nbsp;&nbsp; k) Dictionaries with Lists <br>\n",
    " &nbsp;&nbsp;&nbsp;&nbsp; l) Dictionaries with Dictionaries <br>\n",
    " &nbsp;&nbsp;&nbsp;&nbsp; ------ Exercise #3 - Write a Function that asks someone's name and address, and then stores that into a dictionary, which prints all names and addresses after they're done putting information in...  <br>\n",
    "2) Dictionaries vs. Lists (over time)<br>\n",
    "3) Set <br>\n",
    " &nbsp;&nbsp;&nbsp;&nbsp; a) Declaring <br>\n",
    " &nbsp;&nbsp;&nbsp;&nbsp; b) .add() <br>\n",
    " &nbsp;&nbsp;&nbsp;&nbsp; c) .remove() <br>\n",
    " &nbsp;&nbsp;&nbsp;&nbsp; d) .union() <br>\n",
    " &nbsp;&nbsp;&nbsp;&nbsp; e) .intersection() <br>\n",
    " &nbsp;&nbsp;&nbsp;&nbsp; f) .difference() <br>\n",
    " &nbsp;&nbsp;&nbsp;&nbsp; g) Frozen Set <br>\n",
    "4) Modules <br>\n",
    " &nbsp;&nbsp;&nbsp;&nbsp; a) Importing Entire Modules <br>\n",
    " &nbsp;&nbsp;&nbsp;&nbsp; b) Importing Methods Only <br>\n",
    " &nbsp;&nbsp;&nbsp;&nbsp; c) Using the 'as' Keyword <br>\n",
    " &nbsp;&nbsp;&nbsp;&nbsp; d) Creating a Module <br>\n",
    "5) Exercises <br>\n",
    " &nbsp;&nbsp;&nbsp;&nbsp; a) Build a Shopping Cart <br>\n",
    " &nbsp;&nbsp;&nbsp;&nbsp; b) Create Your Own Module <br>"
   ]
  },
  {
   "cell_type": "markdown",
   "metadata": {},
   "source": [
    "## Dictionary <br>\n",
    "<p>A collection of data with 'key:value' pairs. Dictionaries are ordered as of Python 3.6</p>"
   ]
  },
  {
   "cell_type": "markdown",
   "metadata": {},
   "source": [
    "##### Declaring (key, value)"
   ]
  },
  {
   "cell_type": "code",
   "execution_count": null,
   "metadata": {},
   "outputs": [],
   "source": [
    "# keys should be unique\n",
    "# can use numbers or strings as keys\n",
    "#list(), tuple(), dict(), set()\n",
    "\n",
    "d_1 = {}\n",
    "#or\n",
    "d_2 = dict()\n",
    "#or\n",
    "d_3 = {\"Tom\": \"255 Main St\",\n",
    "      \"Jerry\": \"256 Main St\",\n",
    "      0: \"This is a value of 0 for the key of 0\"\n",
    "      }"
   ]
  },
  {
   "cell_type": "markdown",
   "metadata": {},
   "source": [
    "##### Accessing Values"
   ]
  },
  {
   "cell_type": "code",
   "execution_count": null,
   "metadata": {},
   "outputs": [],
   "source": [
    "# dict[key]\n",
    "print(d_3[\"Jerry\"])\n",
    "\n",
    "print(d_3[0])\n",
    "\n",
    "tom_address = d_3[\"Tom\"]\n",
    "print(tom_address)\n"
   ]
  },
  {
   "cell_type": "code",
   "execution_count": null,
   "metadata": {},
   "outputs": [],
   "source": [
    "d_4 = {\n",
    "    \"Luke\": \"Lightsaber\"\n",
    "    \"Han\": \"Pistol\"\n",
    "    \"Chewbacca\": \"Bowcaster\"\n",
    "}\n",
    "\n",
    "luke_weapon = d_4"
   ]
  },
  {
   "cell_type": "markdown",
   "metadata": {},
   "source": [
    "## In-Class Exercise #1 - Print a formatted statement from the dictionary below <br>\n",
    "<p>The output should be '2018 Chevrolet Silverado'</p>"
   ]
  },
  {
   "cell_type": "code",
   "execution_count": null,
   "metadata": {},
   "outputs": [],
   "source": [
    "# use the dict below\n",
    "truck = {\n",
    "    \"year\": 2018,\n",
    "    'make': 'Chevrolet',\n",
    "    'model': 'Silverado'\n",
    "}\n",
    "\n",
    "print(f\"The year of the truck is\",truck[\"year\"],\",and it is a\", truck[\"make\"], truck[\"model\"])"
   ]
  },
  {
   "cell_type": "markdown",
   "metadata": {},
   "source": [
    "##### Adding New Pairs"
   ]
  },
  {
   "cell_type": "code",
   "execution_count": null,
   "metadata": {},
   "outputs": [],
   "source": [
    "# dict[key] = value\n",
    "d_4 = {\n",
    "    \"Luke\": \"Lightsaber\"\n",
    "    \"Han\": \"Pistol\"\n",
    "    \"Chewbacca\": \"Bowcaster\"\n",
    "}"
   ]
  },
  {
   "cell_type": "markdown",
   "metadata": {},
   "source": [
    "##### Modifying Values"
   ]
  },
  {
   "cell_type": "code",
   "execution_count": null,
   "metadata": {},
   "outputs": [],
   "source": [
    "# dict[key] = value\n"
   ]
  },
  {
   "cell_type": "markdown",
   "metadata": {},
   "source": [
    "##### Removing Key, Value Pairs"
   ]
  },
  {
   "cell_type": "code",
   "execution_count": null,
   "metadata": {},
   "outputs": [],
   "source": [
    "# del dict[key]\n",
    "\n"
   ]
  },
  {
   "cell_type": "markdown",
   "metadata": {},
   "source": [
    "##### Looping a Dictionary"
   ]
  },
  {
   "cell_type": "code",
   "execution_count": null,
   "metadata": {},
   "outputs": [],
   "source": [
    "# .items()\n",
    "# a, b, c = 1, 2, 3\n"
   ]
  },
  {
   "cell_type": "markdown",
   "metadata": {},
   "source": [
    "##### Looping Only Keys"
   ]
  },
  {
   "cell_type": "code",
   "execution_count": null,
   "metadata": {},
   "outputs": [],
   "source": [
    "# .keys()\n"
   ]
  },
  {
   "cell_type": "markdown",
   "metadata": {},
   "source": [
    "##### Looping Only Values"
   ]
  },
  {
   "cell_type": "code",
   "execution_count": null,
   "metadata": {},
   "outputs": [],
   "source": []
  },
  {
   "cell_type": "code",
   "execution_count": null,
   "metadata": {
    "scrolled": false
   },
   "outputs": [],
   "source": []
  },
  {
   "cell_type": "code",
   "execution_count": null,
   "metadata": {
    "scrolled": true
   },
   "outputs": [],
   "source": [
    "# .values()\n"
   ]
  },
  {
   "cell_type": "markdown",
   "metadata": {},
   "source": [
    "## In-Class Exercise #2 - Create a Function that Prints All Key Value Pairs within a print .format() <br>\n",
    "<p><b>Output should be:</b><br>\n",
    "Max has blue eyes<br>\n",
    "Lilly has brown eyes<br>\n",
    "Barney has blue eyes<br>\n",
    "etc.\n",
    "</p>"
   ]
  },
  {
   "cell_type": "code",
   "execution_count": null,
   "metadata": {},
   "outputs": [],
   "source": [
    "# use the dict below\n",
    "\n",
    "people = {\n",
    "    'Max': 'blue',\n",
    "    'Lilly': 'brown',\n",
    "    'Barney': 'blue',\n",
    "    'Larney': 'brown',\n",
    "    'Ted': 'purple',\n",
    "    'Sasuke': 'sharingan'\n",
    "}\n",
    "\n",
    "for key, value in people.items():\n",
    "    print(f\"{key} has {value} eyes\")\n",
    "    "
   ]
  },
  {
   "cell_type": "code",
   "execution_count": null,
   "metadata": {},
   "outputs": [],
   "source": [
    "for person, color in people.items():\n",
    "    print(\"{} has {} eyes!\".format(person, color))"
   ]
  },
  {
   "cell_type": "markdown",
   "metadata": {},
   "source": [
    "##### sorted()"
   ]
  },
  {
   "cell_type": "code",
   "execution_count": null,
   "metadata": {},
   "outputs": [],
   "source": [
    "# sorts variables in order\n",
    "# sorted(dict.values()) or dict.keys() or dict.items()\n"
   ]
  },
  {
   "cell_type": "markdown",
   "metadata": {},
   "source": [
    "##### List with Dictionaries"
   ]
  },
  {
   "cell_type": "code",
   "execution_count": null,
   "metadata": {},
   "outputs": [],
   "source": []
  },
  {
   "cell_type": "markdown",
   "metadata": {},
   "source": [
    "##### Dictionaries with Lists"
   ]
  },
  {
   "cell_type": "code",
   "execution_count": null,
   "metadata": {},
   "outputs": [],
   "source": [
    "# be careful when using numbers as keys in dictionaries, don't confuse them with indexes\n",
    "\n"
   ]
  },
  {
   "cell_type": "markdown",
   "metadata": {},
   "source": [
    "##### Dictionaries with Dictionaries"
   ]
  },
  {
   "cell_type": "code",
   "execution_count": null,
   "metadata": {},
   "outputs": [],
   "source": [
    "# to get values, must traverse through keys\n",
    "\n",
    "\"Cecilia\": {\n",
    "    \"breakfast\": [\"pancakes\", \"bacon\", \"hashbrowns\", \"eggs\"],\n",
    "    \"bbq\": [\"ribs\", \"brisket\", \"pulled pork\", \"wings\"],\n",
    "    \"pie\": [\"strawberry rhubarb\", \"peanut butter\", \"pumpkin\"]\n",
    "}"
   ]
  },
  {
   "cell_type": "code",
   "execution_count": null,
   "metadata": {},
   "outputs": [],
   "source": [
    "# to get values, must traverse through keys\n",
    "\n",
    "\n",
    "\n",
    "food_dict = {\n",
    "    \"Ryan\": {\n",
    "    \"mexican\": [\"Tacos\", \"Tacos\", \"Tacos\", \"Torta\"],\n",
    "    \"noodles\": [\"Ramen\", \"shell\", \"ravioli\"],\n",
    "     \"desserts\": [\"pie\", \"chocolate chip ice cream\", \"cheesecake\"]   \n",
    "},\n",
    "    'Alex': {\n",
    "    'hispanic': ['Pupusas', 'Tamales', 'Arepas'],\n",
    "    'italian' : ['Lasagna', 'Spaghetti', 'Pizza'],\n",
    "    'sweets': ['Ice Cream', 'Canolis', 'Soufle']\n",
    "},\n",
    "    \"Saad\": {\n",
    "    \"italian\": [\"pasta\", \"pizza\", \"seafood\"],\n",
    "    \"pizza\": [\"plain\", \"margarita\", \"pineapple\", \"chicken\"]\n",
    "},\n",
    "    \"Beck\": {\n",
    "        \"japanese\" : [\"sushi\", \"ramen\", \"dumplings\"],\n",
    "        \"desserts\" : [\"cookie dough\", \"ice cream\", \"cheesecake\"],\n",
    "        \"italian\" : [\"pizza\", \"pasta\", \"gelato\"]\n",
    "\n",
    "    },\n",
    "    \"Dylan\":{\n",
    "        \"Asian\":[\"Pho\", \"Korean Beef\", \"Gyoza\", \"Sushi\", \"Ramen\"],\n",
    "        \"Mexican\":[\"Tacos\", \"Poblano Peppers\", \"Tamales\"],\n",
    "        \"Italian\":[\"Pizza\", \"Spaghetti\"],\n",
    "    },\n",
    "    \"Julia\": {\n",
    "    \"italian\":[\"pizza\", \"bolognese\"],\n",
    "    \"vietnamese\":[\"bhan mi\", \"pho\"],\n",
    "    \"mexican\":[\"tacos al pastor\", \"tortas\"]\n",
    "},\n",
    "    \"Cecilia\": {\n",
    "    \"breakfast\": [\"pancakes\", \"bacon\", \"hashbrowns\", \"eggs\"],\n",
    "    \"bbq\": [\"ribs\", \"brisket\", \"pulled pork\", \"wings\"],\n",
    "    \"pie\": [\"strawberry rhubarb\", \"peanut butter\", \"pumpkin\"]\n",
    "},\n",
    "    \"Badar\": {\n",
    "        \"Desert\": [\"Jello\", \"Cookies\", \"Pie\"],\n",
    "        \"Lunch\": [\"Turkey Sandwich\", \"Pizza\", \"Deli\"]\n",
    "},\n",
    "    \"Nick\":{\n",
    "        \"Italian\":[\"Pizza\", \"Pasta\", \"Bolognese\"],\n",
    "        \"Hispanic\":[\"Bolon de queso\", \"Chilaquiles\", \"encebollado\"],\n",
    "        \"Asian\":[\"Ramen\", \"More Ramen\", \"Sushi\", \"Also Ramen\"]\n",
    "},\n",
    "    \"Jason\":\n",
    "    {\"italian\": [\"pizza\",  \"bbq\",  \"chinese\"]},\n",
    "    \n",
    "     \"Chris\": {\n",
    "        \"sushi\": ['roll', 'sushimi', 'nigiri'],\n",
    "        \"dessert\": ['chocolate', 'brownie', 'thinmints']\n",
    "}\n",
    "\n",
    "}\n",
    "\n",
    "print(food_dict)"
   ]
  },
  {
   "cell_type": "code",
   "execution_count": null,
   "metadata": {},
   "outputs": [],
   "source": [
    "ryan_desserts = food_dict[\"Ryan\"][\"desserts\"]\n",
    "print(ryan_desserts)"
   ]
  },
  {
   "cell_type": "code",
   "execution_count": null,
   "metadata": {},
   "outputs": [],
   "source": [
    "saad_pizza = food_dict[\"Saad\"][\"pizza\"][2]\n",
    "print(saad_pizza)"
   ]
  },
  {
   "cell_type": "code",
   "execution_count": null,
   "metadata": {},
   "outputs": [],
   "source": [
    "cecilia_breakfast = food_dict[\"Cecilia\"][\"breakfast\"]\n",
    "print(cecilia_breakfast)\n",
    "\n",
    "for breakfast in food_dict[\"Cecilia\"][\"breakfast\"]:\n",
    "    print(breakfast)"
   ]
  },
  {
   "cell_type": "code",
   "execution_count": null,
   "metadata": {},
   "outputs": [],
   "source": [
    "#With out food dict:\n",
    "#1. Bring back all of the dictionaries within the dictionary\n",
    "#2. Bring back all of the items in a list\n",
    "#3. Access specific items inside the list\n",
    "#4. Print a formatted string with somebody's favorite type of food"
   ]
  },
  {
   "cell_type": "code",
   "execution_count": null,
   "metadata": {},
   "outputs": [],
   "source": [
    "#1.\n",
    "for person, foods in food_dict.items():\n",
    "    print(person + \" likes \", end =\"\")\n",
    "    print(foods)"
   ]
  },
  {
   "cell_type": "code",
   "execution_count": null,
   "metadata": {},
   "outputs": [],
   "source": [
    "#2.\n",
    "for x in food_dict['Badar']['Desert']:\n",
    "    print(x)"
   ]
  },
  {
   "cell_type": "code",
   "execution_count": null,
   "metadata": {},
   "outputs": [],
   "source": [
    "#3.\n",
    "badar_favorite = food_dict[\"Badar\"][\"Lunch\"][0]\n",
    "print(badar_favorite)\n"
   ]
  },
  {
   "cell_type": "code",
   "execution_count": null,
   "metadata": {},
   "outputs": [],
   "source": [
    "#4.\n",
    "print(f\"Cecilia really likes {food_dict['Cecilia']['bbq'][3]}!\")\n",
    "\n",
    "print(f\"nick really likes {food_dict['Nick']['Asian'][0]}\")\n",
    "      \n",
    "print(f\"Nick's fav noodles are: \")\n",
    "for noodles in food_dict['Nick']['Asian']:\n",
    "    print(noodles)\n",
    "    \n",
    "for person, foods in food_dict.items():\n",
    "    print(person + \" likes \", end =\"\")\n",
    "    for favfoods in foods.values():\n",
    "        print (favfoods[0]+ \", \"+favfoods[1]+\", \",end =\"\")\n",
    "    print(\"and more!\")"
   ]
  },
  {
   "cell_type": "markdown",
   "metadata": {},
   "source": [
    "## Dictionaries vs. Lists (over time) Example of RUNTIME\n",
    "### When inputting values in a Dictionary vs List"
   ]
  },
  {
   "cell_type": "code",
   "execution_count": null,
   "metadata": {},
   "outputs": [],
   "source": []
  },
  {
   "cell_type": "code",
   "execution_count": null,
   "metadata": {},
   "outputs": [],
   "source": []
  },
  {
   "cell_type": "markdown",
   "metadata": {},
   "source": [
    "## Exercise #3 - Write a Function that asks someone's name and address, and then stores that into a dictionary, and continues to do so until they choose to 'quit'. Once they quit, the program should print all names and addresses. <br>\n",
    "<p>\n",
    "<b>Proper steps:</b><br>\n",
    "step 1: write a function that takes in information and stores it in a dictionary<br>\n",
    "step 2: define an empty dictionary to work with<br>\n",
    "step 3: create our loop, which asks the user for information until they quit<br>\n",
    "step 4: ask for the information, and store it into variables<br>\n",
    "step 5: check if the user types quit<br>\n",
    "step 5a: print out all information<br>\n",
    "step 5b: break out of the loop<br>\n",
    "step 6: if they didn't quit, add the information to the dictionary<br>\n",
    "step 7: invoke the function by calling it\n",
    "</p>"
   ]
  },
  {
   "cell_type": "code",
   "execution_count": null,
   "metadata": {},
   "outputs": [],
   "source": [
    "from IPython.display import clear_output\n",
    "\n",
    "# Step 1\n",
    "def storeInfo():\n",
    "    #step 2\n",
    "    d = {}\n",
    "    #step 3 \n",
    "    while True:\n",
    "        #step 4\n",
    "        name = input(\"Enter a name or say 'quit' to quit: \")\n",
    "        address = input(\"Enter an address or say 'quit' to quit: \")\n",
    "        clear_output()\n",
    "        #step 5\n",
    "        if name.lower() == \"quit\" or address.lower() == \"quit\":\n",
    "            #step5a\n",
    "            for key, value in d.items():\n",
    "                print(f\"The address for {key} is {value}.\")\n",
    "            break #step 5b\n",
    "        d[name] = address\n",
    "        \n",
    "storeInfo()\n",
    "        \n",
    "        "
   ]
  },
  {
   "cell_type": "markdown",
   "metadata": {},
   "source": [
    "## Set <br>\n",
    "<p>A Set is an unordered collection data type that is iterable (loop), mutable, and has no duplicate elements.<br>Major advantage is that it is highly optimized in checking if something is in the set, as opposed to checking if something is in a list.</p>"
   ]
  },
  {
   "cell_type": "markdown",
   "metadata": {},
   "source": [
    "##### Declaring"
   ]
  },
  {
   "cell_type": "code",
   "execution_count": null,
   "metadata": {},
   "outputs": [],
   "source": [
    "# set() or {}\n",
    "# no order {3, 2, 1} outputs as {1, 2, 3}\n",
    "\n",
    "nums = {4, 1, 8, 4, 4, 4, 4}\n",
    "print(nums)\n",
    "\n",
    "print(len(nums))\n",
    "\n",
    "our_list = {1,2,3,4,4,4,4,5}\n",
    "\n",
    "our_set = set(our_list)\n",
    "print(our_set)\n",
    "\n",
    "our_str_set = {\"Ryan\",\"Alex\",\"Beck\",\"Julia\",\"Julia\"}\n",
    "print(our_str_set)\n",
    "\n"
   ]
  },
  {
   "cell_type": "code",
   "execution_count": null,
   "metadata": {},
   "outputs": [],
   "source": [
    "another_set = {1, 5, 2, 4, 10, 20, 5, 2, 6, 6, 7, 3}\n",
    "print(another_set)"
   ]
  },
  {
   "cell_type": "markdown",
   "metadata": {},
   "source": [
    "##### .add()"
   ]
  },
  {
   "cell_type": "code",
   "execution_count": null,
   "metadata": {},
   "outputs": [],
   "source": [
    "# set.add()\n",
    "nums = {4, 1, 8, 4, 4, 4, 4}\n",
    "nums.add(22)\n",
    "print(nums)\n",
    "# nums.add(24)\n",
    "# print(nums)"
   ]
  },
  {
   "cell_type": "markdown",
   "metadata": {},
   "source": [
    "##### .remove()"
   ]
  },
  {
   "cell_type": "code",
   "execution_count": null,
   "metadata": {},
   "outputs": [],
   "source": [
    "# removes by value\n",
    "# set.remove()\n",
    "# nums.remove(56)\n",
    "nums.remove(22)\n",
    "print(nums)"
   ]
  },
  {
   "cell_type": "markdown",
   "metadata": {},
   "source": [
    "##### .union() "
   ]
  },
  {
   "cell_type": "code",
   "execution_count": null,
   "metadata": {},
   "outputs": [],
   "source": [
    "# Returns a union of two sets, can also use '|' or set.union(set)\n",
    "# joins all numbers, gets rid of duplicates\n",
    "\n",
    "s1 = {1,2,3,4}\n",
    "s2 = {3,4,5,6}\n",
    "\n",
    "s3 = s1.union(s2)\n",
    "\n",
    "#or\n",
    "\n",
    "s4 = s1 | s2\n",
    "\n",
    "print(s3)\n",
    "print(s4)"
   ]
  },
  {
   "cell_type": "markdown",
   "metadata": {},
   "source": [
    "##### .intersection()"
   ]
  },
  {
   "cell_type": "code",
   "execution_count": null,
   "metadata": {},
   "outputs": [],
   "source": [
    "# Returns an intersection of two sets, can also use '&'\n",
    "# only takes similar elements from both sets\n",
    "\n",
    "s1 = {1,2,3,4}\n",
    "s2 = {3,4,5,6}\n",
    "\n",
    "s5 = s1.intersection(s2)\n",
    "s6 = s1 & s2\n",
    "\n",
    "print(s5)\n",
    "print(s6)"
   ]
  },
  {
   "cell_type": "markdown",
   "metadata": {},
   "source": [
    "##### .difference()"
   ]
  },
  {
   "cell_type": "code",
   "execution_count": null,
   "metadata": {},
   "outputs": [],
   "source": [
    "# Returns a set containing all the elements of invoking set that are not in the second set, can also use '-'\n",
    "# only takes values from the first set that are not in the second set\n",
    "# order matters\n",
    "\n",
    "s1 = {1,2,3,4}\n",
    "s2 = {3,4,5,6}\n",
    "\n",
    "s7 = s1 - s2\n",
    "#or\n",
    "s8 = s2.difference(s1)\n",
    "\n",
    "print(s1, s2)\n",
    "print(s7, s8)"
   ]
  },
  {
   "cell_type": "markdown",
   "metadata": {},
   "source": [
    "##### .clear()"
   ]
  },
  {
   "cell_type": "code",
   "execution_count": null,
   "metadata": {},
   "outputs": [],
   "source": [
    "# Empties the whole set\n",
    "# set.clear()\n",
    "\n",
    "s1 = {1,2,3,4}\n",
    "s2 = {3,4,5,6}\n",
    "\n",
    "s2.clear()\n",
    "print(s2)"
   ]
  },
  {
   "cell_type": "markdown",
   "metadata": {},
   "source": [
    "##### Frozenset <br>\n",
    "<p>Frozen sets are immutable objects that only support methods and operators that produce a result without affecting the frozen set or sets to which they are applied.</p><br><b>Unique & Immutable</b>"
   ]
  },
  {
   "cell_type": "code",
   "execution_count": null,
   "metadata": {},
   "outputs": [],
   "source": [
    "# frozenset([])\n",
    "\n",
    "s1 = {1,2,3,4}\n",
    "s2 = {3,4,5,6}\n",
    "my_frozen_set = frozenset(s1)\n",
    "my_frozen_set2 = frozenset(s2)\n",
    "my_frozen_set3 = my_frozen_set | my_frozen_set2  #this was assigned a new variable which means the sets are no longer\n",
    "#frozen and therefore can be intersected and now added to because it is a new variable\n",
    "print(my_frozen_set3)\n",
    "print(my_frozen_set)\n",
    "\n",
    "# my_frozen_set.add(22)\n",
    "# my_frozen_set.remove(1)\n",
    "#above two can not be added to or removed from because the original set is frozen (operates like .sort vs sorted)\n",
    "\n",
    "\n",
    "\n",
    "# frequent interview question is \"what are some mutable data types vs immutable data types” so log that to memory"
   ]
  },
  {
   "cell_type": "markdown",
   "metadata": {},
   "source": [
    "## Modules"
   ]
  },
  {
   "cell_type": "markdown",
   "metadata": {},
   "source": [
    "##### Importing Entire Modules"
   ]
  },
  {
   "cell_type": "code",
   "execution_count": null,
   "metadata": {},
   "outputs": [],
   "source": [
    "# import \n",
    "# or \n",
    "# from 'xxx' import *\n",
    "\n",
    "import math\n",
    "print(math.pi)\n",
    "\n",
    "print(math.ceil(math.pi))\n",
    "print(math.floor(math.pi))"
   ]
  },
  {
   "cell_type": "markdown",
   "metadata": {},
   "source": [
    "##### Importing Methods Only"
   ]
  },
  {
   "cell_type": "code",
   "execution_count": null,
   "metadata": {},
   "outputs": [],
   "source": [
    "# from 'xxx' import 'xxx'\n",
    "# from math import floor\n",
    "\n",
    "from math import floor, pi\n",
    "print(floor(pi))"
   ]
  },
  {
   "cell_type": "markdown",
   "metadata": {},
   "source": [
    "##### Using the 'as' Keyword"
   ]
  },
  {
   "cell_type": "code",
   "execution_count": null,
   "metadata": {},
   "outputs": [],
   "source": [
    "# from 'xxx' import 'xxx' as 'xxx' or import 'xxx' as 'xxx'\n",
    "# from math import floor as f\n",
    "\n",
    "from math import floor as f, pi as p\n",
    "print(f(p))"
   ]
  },
  {
   "cell_type": "markdown",
   "metadata": {},
   "source": [
    "##### Creating a Module"
   ]
  },
  {
   "cell_type": "code",
   "execution_count": null,
   "metadata": {},
   "outputs": [],
   "source": [
    "from module import printName as pn\n",
    "pn(\"Cecilia\")\n"
   ]
  },
  {
   "cell_type": "markdown",
   "metadata": {},
   "source": [
    "# Exercises"
   ]
  },
  {
   "cell_type": "markdown",
   "metadata": {},
   "source": [
    "### 1) Build a Shopping Cart <br>\n",
    "<p><b>You can use either lists or dictionaries. The program should have the following capabilities:</b><br><br>\n",
    "1) Takes in input <br>\n",
    "2) Stores user input into a dictionary or list <br>\n",
    "3) The User can add or delete items <br>\n",
    "4) The User can see current shopping list <br>\n",
    "5) The program Loops until user 'quits' <br>\n",
    "6) Upon quiting the program, print out all items in the user's list <br>\n",
    "</p>"
   ]
  },
  {
   "cell_type": "code",
   "execution_count": null,
   "metadata": {},
   "outputs": [
    {
     "name": "stdout",
     "output_type": "stream",
     "text": [
      "Hello Ruth, let's get shopping!\n",
      "Select from the list below on what to do next: \n",
      "\t1. View cart\n",
      "\t2. Add item to cart\n",
      "\t3. Remove item from cart\n",
      "\t4. Clear cart\n",
      "\t5. Check out\n"
     ]
    }
   ],
   "source": [
    "# Ask the user four bits of input: Do you want to : Show/Add/Delete or Quit?\n",
    "from IPython.display import clear_output\n",
    "\n",
    "print(\"Hello User!\")\n",
    "name = input(\"What is your name? \")\n",
    "clear_output()\n",
    "print(\"Hello \" + name + \", let's get shopping!\")\n",
    "cart = []\n",
    "\n",
    "def shoppingCart():    \n",
    "    print(\"Select from the list below on what to do next: \"\n",
    "        \"\\n\\t1. View cart\" \n",
    "        \"\\n\\t2. Add item to cart\" \n",
    "        \"\\n\\t3. Remove item from cart\"\n",
    "        \"\\n\\t4. Clear cart\" \n",
    "        \"\\n\\t5. Check out\")\n",
    "    while True:\n",
    "        selection = input(\"How would you like to begin? \")\n",
    "        if selection == \"1\":\n",
    "            view()\n",
    "        elif selection == \"2\":\n",
    "            add()\n",
    "        elif selection == \"3\":\n",
    "            remove()\n",
    "        elif selection == \"4\":\n",
    "            clear() \n",
    "        elif selection == \"5\":\n",
    "            checkout()\n",
    "        else:\n",
    "            print(\"Error, please try again. \")\n",
    "        \n",
    "\n",
    "def view():\n",
    "    for i in cart:\n",
    "        print(i)\n",
    "def add():\n",
    "    item = input(\"What would you like to add to your cart? \")\n",
    "    cart.append(item)\n",
    "    print(item.title() + \" has been added to your cart.\")\n",
    "def remove():\n",
    "    item = input(\"What would you like to remove from your cart?\")\n",
    "    cart.remove(item)\n",
    "    print(item.title() + \" has been removed from your cart.\")\n",
    "def clear():\n",
    "    cart.clear()\n",
    "    print(\"Your cart is empty.\")\n",
    "def checkout():\n",
    "    print(cart)\n",
    "    print(\"Thank you for shopping with us!\")\n",
    "        \n",
    "shoppingCart()\n"
   ]
  },
  {
   "cell_type": "markdown",
   "metadata": {},
   "source": [
    "### 2) Create a Module in VS Code and Import It into jupyter notebook <br>\n",
    "<p><b>Module should have the following capabilities:</b><br><br>\n",
    "1) Has a function to calculate the square footage of a house <br>\n",
    "    <b>Reminder of Formula: Length X Width == Area<br>\n",
    "        <hr>\n",
    "2) Has a function to calculate the circumference of a circle <br><br>\n",
    "<b>Program in Jupyter Notebook should take in user input and use imported functions to calculate a circle's circumference or a houses square footage</b>\n",
    "</p>"
   ]
  },
  {
   "cell_type": "code",
   "execution_count": null,
   "metadata": {},
   "outputs": [],
   "source": [
    "from math_module import squareFootage as sf\n",
    "sf()"
   ]
  },
  {
   "cell_type": "code",
   "execution_count": null,
   "metadata": {},
   "outputs": [],
   "source": [
    "from math_module import circumferenceCircle as cc\n",
    "cc()"
   ]
  }
 ],
 "metadata": {
  "kernelspec": {
   "display_name": "Python 3 (ipykernel)",
   "language": "python",
   "name": "python3"
  },
  "language_info": {
   "codemirror_mode": {
    "name": "ipython",
    "version": 3
   },
   "file_extension": ".py",
   "mimetype": "text/x-python",
   "name": "python",
   "nbconvert_exporter": "python",
   "pygments_lexer": "ipython3",
   "version": "3.9.12"
  }
 },
 "nbformat": 4,
 "nbformat_minor": 2
}
